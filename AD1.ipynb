{
 "cells": [
  {
   "cell_type": "markdown",
   "id": "7e8912a9",
   "metadata": {
    "id": "7e8912a9"
   },
   "source": [
    "<h1><center>Лабораторная работа №1</center></h1>\n",
    "<h2><center>по дисциплине «Анализ данных».</center></h2>\n",
    "\n",
    "> Задание:\n",
    "\n",
    "Найти датасет.\n",
    "* Произвести выборки,\n",
    "* определить t-критерий Стьюдента.\n",
    "* anova test\n",
    "* Сделать выводы."
   ]
  },
  {
   "cell_type": "markdown",
   "id": "29065cfd",
   "metadata": {
    "id": "29065cfd"
   },
   "source": [
    "* H0 - машины после обслуживания(замены масла(само масло с индексом 5W-30)) разгоняются до 100 км/ч так же, как и до замены\n",
    "* H1 - машина на новом масле разгоняется быстрее до 100 км/ч, чем на старом\n"
   ]
  },
  {
   "cell_type": "code",
   "execution_count": 104,
   "id": "b9741c5e",
   "metadata": {
    "id": "b9741c5e"
   },
   "outputs": [],
   "source": [
    "import numpy as np\n",
    "import scipy.stats as stats\n",
    "import matplotlib.pyplot as plt\n",
    "import csv\n",
    "\n",
    "%matplotlib inline"
   ]
  },
  {
   "cell_type": "code",
   "execution_count": 105,
   "id": "aa23c295",
   "metadata": {
    "id": "aa23c295"
   },
   "outputs": [],
   "source": [
    "with open((r\"C:\\Users\\Admin\\Downloads\\сhanges.csv\"), newline='') as csvfile:\n",
    "    data = csv.reader(csvfile, delimiter=';')\n",
    "    a1 = []\n",
    "    a2 = []\n",
    "    next(data)\n",
    "    for row in data:\n",
    "        a1.append(int(row[1]))\n",
    "        a2.append(int(row[0]))"
   ]
  },
  {
   "cell_type": "code",
   "execution_count": 106,
   "id": "53ba0c96",
   "metadata": {
    "id": "53ba0c96",
    "outputId": "e4aff4ad-2dc1-4936-8bd2-c8ebe7a2dff5"
   },
   "outputs": [
    {
     "name": "stdout",
     "output_type": "stream",
     "text": [
      "Ttest_indResult(statistic=-3.1257369253389347, pvalue=0.0024719180802886855)\n"
     ]
    }
   ],
   "source": [
    "rez = stats.ttest_ind (a=a1, b=a2)\n",
    "print(rez)"
   ]
  },
  {
   "cell_type": "markdown",
   "id": "95948d36",
   "metadata": {
    "id": "95948d36"
   },
   "source": [
    "#### Вывод: Из-за того, что значение р-теста (0.002) меньше, чем альфа = 0,05, следовательно, на уровне статистики мы можем отвергнуть нулевую гипотезу и утверждать, что машина новом масле разгоняется быстрее до 100 км/ч, чем на старом"
   ]
  },
  {
   "cell_type": "markdown",
   "id": "ffff7c51",
   "metadata": {
    "id": "ffff7c51"
   },
   "source": [
    "## <center> ANOVA </center>\n",
    "Построим блочную диаграмму:"
   ]
  },
  {
   "cell_type": "code",
   "execution_count": 107,
   "id": "ad6cfe43",
   "metadata": {
    "id": "ad6cfe43",
    "outputId": "d308dbd3-c19b-4f9a-b97c-ce1fa5f95afe"
   },
   "outputs": [
    {
     "data": {
      "text/plain": [
       "F_onewayResult(statistic=9.77023132642729, pvalue=0.0024719180802886924)"
      ]
     },
     "execution_count": 107,
     "metadata": {},
     "output_type": "execute_result"
    }
   ],
   "source": [
    "from scipy.stats import f_oneway\n",
    "\n",
    "f_oneway(a1, a2)"
   ]
  },
  {
   "cell_type": "markdown",
   "id": "e7e2a1a3",
   "metadata": {
    "id": "e7e2a1a3"
   },
   "source": [
    "### Вывод: P < 0.05, поэтому мы можем отклонить нулевую гипотезу."
   ]
  },
  {
   "cell_type": "code",
   "execution_count": null,
   "id": "55bb5f9c",
   "metadata": {
    "id": "55bb5f9c"
   },
   "outputs": [],
   "source": []
  }
 ],
 "metadata": {
  "colab": {
   "provenance": []
  },
  "kernelspec": {
   "display_name": "Python 3 (ipykernel)",
   "language": "python",
   "name": "python3"
  },
  "language_info": {
   "codemirror_mode": {
    "name": "ipython",
    "version": 3
   },
   "file_extension": ".py",
   "mimetype": "text/x-python",
   "name": "python",
   "nbconvert_exporter": "python",
   "pygments_lexer": "ipython3",
   "version": "3.9.13"
  }
 },
 "nbformat": 4,
 "nbformat_minor": 5
}
